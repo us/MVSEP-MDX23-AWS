{
 "cells": [
  {
   "cell_type": "markdown",
   "id": "a69f9fde",
   "metadata": {},
   "source": [
    "## Deploy"
   ]
  },
  {
   "cell_type": "code",
   "execution_count": 12,
   "id": "b4b2a1db",
   "metadata": {},
   "outputs": [
    {
     "name": "stderr",
     "output_type": "stream",
     "text": [
      "Cloning into '/tmp/tmpwz123pfo'...\n",
      "Already on 'v2.3'\n"
     ]
    },
    {
     "name": "stdout",
     "output_type": "stream",
     "text": [
      "Your branch is up to date with 'origin/v2.3'.\n"
     ]
    }
   ],
   "source": [
    "# deploy model\n",
    "\n",
    "# deploy model\n",
    "\n",
    "import sagemaker\n",
    "from sagemaker.pytorch import PyTorchModel\n",
    "from sagemaker import Model\n",
    "from sagemaker.async_inference import AsyncInferenceConfig\n",
    "import boto3\n",
    "from sagemaker.serializers import JSONSerializer\n",
    "from sagemaker.deserializers import JSONDeserializer\n",
    "\n",
    "# CONFIG\n",
    "endpoint_name = \"vocal-remover-sagemaker-inference-endpoint-v1\"\n",
    "region = 'us-east-1'\n",
    "output_path = f's3://vocalremoverbucket.us.east.1.only/sagemaker_inferences/{endpoint_name}/outputs'\n",
    "model_path = 's3://vocalremoverbucket.us.east.1.only/models/models_only_v2.tar.gz'\n",
    "\n",
    "# Your specified role and git configuration\n",
    "role = 'arn:aws:iam::975050117348:role/service-role/SageMaker-ExecutionRole-20240223T141256'\n",
    "# it should be public(you can make it priv after this process), or you can give access permissions\n",
    "git_config = {'repo': 'https://github.com/us/MVSEP-MDX23-AWS.git',\n",
    "              'branch': 'v2.3',}\n",
    "\n",
    "boto_session = boto3.Session(region_name=region)\n",
    "\n",
    "# Create a SageMaker session using the boto3 session\n",
    "sagemaker_session = sagemaker.Session(boto_session=boto_session)\n",
    "\n",
    "\n",
    "# Specify the S3 output path for inference results\n",
    "# output_path = f's3://vocalremoverbucket.us.east.1.only/{endpoint_name}/outputs/'\n",
    "# vocal-remover-sagemaker-endpoint-v1\n",
    "\n",
    "# Specify the notification configuration\n",
    "notification_config = {\n",
    "    'SuccessTopic': 'arn:aws:sns:us-east-1:975050117348:vr-success',\n",
    "    'ErrorTopic': 'arn:aws:sns:us-east-1:975050117348:vr-failure'\n",
    "}\n",
    "\n",
    "# Create an AsyncInferenceConfig object\n",
    "async_inference_config = AsyncInferenceConfig(\n",
    "    output_path=output_path,\n",
    "    max_concurrent_invocations_per_instance=1,  # adjust this based on your needs\n",
    "    notification_config=notification_config,\n",
    "    failure_path=output_path + 'failure/'  # optional, specify if you want a separate failure path\n",
    ")\n",
    "\n",
    "\n",
    "# Create a SageMaker PyTorchModel object\n",
    "pytorch_model = PyTorchModel(model_data=model_path,\n",
    "                             git_config=git_config,\n",
    "                             role=role,\n",
    "                             entry_point='inference.py',\n",
    "                             source_dir='code',\n",
    "                             framework_version='2.0.1',\n",
    "                             py_version='py310',\n",
    "                             sagemaker_session=sagemaker_session,\n",
    "                             env={'MODEL_SERVER_TIMEOUT': '600',\n",
    "                                  'MODEL_SERVER_RESPONSE_TIMEOUT': '600',\n",
    "                                  'MODEL_SERVER_TIMEOUT_ENV': '600',\n",
    "                                  'SAGEMAKER_MODEL_SERVER_TIMEOUT': '600',\n",
    "                                  'DEFAULT_MODEL_SERVER_TIMEOUT':'600'\n",
    "                                 }\n",
    "                            )\n",
    "\n",
    "# Deploy your model to an asynchronous inference endpoint\n",
    "predictor = pytorch_model.deploy(\n",
    "    instance_type='ml.g4dn.xlarge',\n",
    "    initial_instance_count=1,\n",
    "    endpoint_name=endpoint_name,\n",
    "    async_inference_config=async_inference_config,  \n",
    "    wait=False,  \n",
    "    serializer=JSONSerializer(),\n",
    "    deserializer=JSONDeserializer()\n",
    ")\n"
   ]
  },
  {
   "cell_type": "markdown",
   "id": "e7baec70",
   "metadata": {},
   "source": [
    "## Helper func for reading prediction output"
   ]
  },
  {
   "cell_type": "code",
   "execution_count": 3,
   "id": "43fe820f",
   "metadata": {},
   "outputs": [],
   "source": [
    "# helper funcs\n",
    "import boto3\n",
    "from urllib.parse import urlparse\n",
    "\n",
    "def separate_bucket_and_path(s3_uri):\n",
    "    parsed = urlparse(s3_uri)\n",
    "    bucket = parsed.netloc\n",
    "    path = parsed.path.lstrip('/')\n",
    "    return bucket, path\n",
    "\n",
    "def retrieve_s3_file_contents(s3_uri):\n",
    "    \"\"\"\n",
    "    Retrieve and print the contents of a file from an S3 bucket.\n",
    "\n",
    "    :param bucket_name: The name of the S3 bucket.\n",
    "    :param object_key: The key of the object within the bucket.\n",
    "    \"\"\"\n",
    "    parsed = urlparse(s3_uri)\n",
    "    bucket = parsed.netloc\n",
    "    path = parsed.path.lstrip('/')\n",
    "#     print(bucket, \"\\n\", path)\n",
    "    # Initialize an S3 client\n",
    "    s3_client = boto3.client('s3')\n",
    "\n",
    "    try:\n",
    "        # Retrieve the object\n",
    "        response = s3_client.get_object(Bucket=bucket, Key=path)\n",
    "        \n",
    "        # Read the object's content\n",
    "        content = response['Body'].read().decode('utf-8')\n",
    "        \n",
    "        print(\"File contents:\", content)\n",
    "    \n",
    "    except s3_client.exceptions.NoSuchBucket:\n",
    "        print(\"The specified bucket does not exist.\")\n",
    "    except s3_client.exceptions.NoSuchKey:\n",
    "        print(\"The specified key does not exist.\")\n",
    "    except Exception as e:\n",
    "        print(f\"An error occurred: {e}\")\n"
   ]
  },
  {
   "cell_type": "markdown",
   "id": "ec0a4fdb",
   "metadata": {},
   "source": [
    "## Split"
   ]
  },
  {
   "cell_type": "code",
   "execution_count": 13,
   "id": "5090e07c",
   "metadata": {},
   "outputs": [
    {
     "name": "stdout",
     "output_type": "stream",
     "text": [
      "{'predictor_async': <sagemaker.predictor_async.AsyncPredictor object at 0x7fc206302920>, 'output_path': 's3://vocalremoverbucket.us.east.1.only/sagemaker_inferences/vocal-remover-sagemaker-inference-endpoint-v1/outputs/1325527b-0250-4e20-8880-90e2b03edc94.out', '_result': None, 'failure_path': 's3://vocalremoverbucket.us.east.1.only/sagemaker_inferences/vocal-remover-sagemaker-inference-endpoint-v1/outputsfailure/1325527b-0250-4e20-8880-90e2b03edc94-error.out'}\n"
     ]
    }
   ],
   "source": [
    "from sagemaker.predictor import Predictor\n",
    "from sagemaker.pytorch.model import PyTorchPredictor\n",
    "\n",
    "from sagemaker.predictor_async import AsyncPredictor\n",
    "from sagemaker.serializers import JSONSerializer\n",
    "from sagemaker.deserializers import JSONDeserializer\n",
    "import boto3\n",
    "import sagemaker\n",
    "import boto3\n",
    "import json\n",
    "\n",
    "import boto3\n",
    "import json\n",
    "\n",
    "import base64\n",
    "region = 'us-east-1'\n",
    "boto_session = boto3.Session(region_name=region)\n",
    "sagemaker_session = sagemaker.Session(boto_session=boto_session)\n",
    "\n",
    "input_data = {\n",
    "    \"s3_audio_path\": \"s3://vocalremoverbucket.us.east.1.only/input-path/song.mp3\",\n",
    "    \"options\": {\n",
    "        \"s3_output_bucket\": \"vocalremoverbucket.us.east.1.only\",\n",
    "        \"s3_sagemaker_outputs_folder_path\": f\"sagemaker-{endpoint_name}-default-outputs\",\n",
    "        \"overlap_demucs\": 0.1,\n",
    "        \"overlap_VOCFT\": 0.1,\n",
    "        \"overlap_VitLarge\": 1,\n",
    "        \"overlap_InstVoc\": 1,\n",
    "        \"weight_InstVoc\": 8,\n",
    "        \"weight_VOCFT\": 1,\n",
    "        \"weight_VitLarge\": 5,\n",
    "        \"large_gpu\": True,\n",
    "        \"BigShifts\": 1,\n",
    "        \"vocals_only\": False,\n",
    "        \"use_VOCFT\": False,\n",
    "        \"output_format\": \"FLOAT\",\n",
    "    }\n",
    "}\n",
    "\n",
    "# Create a predictor\n",
    "predictor2 = PyTorchPredictor(\n",
    "    endpoint_name=endpoint_name,\n",
    "    serializer=JSONSerializer(),\n",
    "    deserializer=JSONDeserializer(),\n",
    "    sagemaker_session=sagemaker_session\n",
    ")\n",
    "# you can give random path, it basically uploads input_data json to s3 for sagemaker easy read! so it's not's matter\n",
    "input_path='s3://vocalremoverbucket.us.east.1.only/default-input-path/input-data.json'\n",
    "async_predictor = AsyncPredictor(predictor2)\n",
    "\n",
    "# Multi request\n",
    "# ress = []\n",
    "# for i in range(20):\n",
    "#     res = async_predictor.predict_async(data=input_data, input_path=input_path)\n",
    "#     ress.append(res)\n",
    "# print(ress)\n",
    "# Process the prediction result as needed\n",
    "res = async_predictor.predict_async(data=input_data, input_path=input_path)\n",
    "print(res.__dict__)"
   ]
  },
  {
   "cell_type": "markdown",
   "id": "ab122604",
   "metadata": {},
   "source": [
    "## Retrieve the outputs if exists"
   ]
  },
  {
   "cell_type": "code",
   "execution_count": 27,
   "id": "9580f81c",
   "metadata": {},
   "outputs": [
    {
     "name": "stdout",
     "output_type": "stream",
     "text": [
      "SUCCESS\n",
      "File contents: {\n",
      "  \"out_paths\": [\n",
      "    \"s3://vocalremoverbucket.us.east.1.only/sagemaker-vocal-remover-sagemaker-inference-endpoint-v1-default-outputs/2024-03-08-10-56-27-2a70bbdb-c1b6-4289-b14f-32fec68837c5/bass.wav\",\n",
      "    \"s3://vocalremoverbucket.us.east.1.only/sagemaker-vocal-remover-sagemaker-inference-endpoint-v1-default-outputs/2024-03-08-10-56-27-2a70bbdb-c1b6-4289-b14f-32fec68837c5/drums.wav\",\n",
      "    \"s3://vocalremoverbucket.us.east.1.only/sagemaker-vocal-remover-sagemaker-inference-endpoint-v1-default-outputs/2024-03-08-10-56-27-2a70bbdb-c1b6-4289-b14f-32fec68837c5/other.wav\",\n",
      "    \"s3://vocalremoverbucket.us.east.1.only/sagemaker-vocal-remover-sagemaker-inference-endpoint-v1-default-outputs/2024-03-08-10-56-27-2a70bbdb-c1b6-4289-b14f-32fec68837c5/vocals.wav\"\n",
      "  ]\n",
      "}\n",
      "FAIL\n",
      "The specified key does not exist.\n"
     ]
    }
   ],
   "source": [
    "# answers = pred.__dict__\n",
    "answers = res.__dict__\n",
    "\n",
    "print(\"SUCCESS\")\n",
    "retrieve_s3_file_contents(answers['output_path'])\n",
    "print(\"FAIL\")\n",
    "retrieve_s3_file_contents(answers['failure_path'])\n",
    "# res.__dict__\n"
   ]
  },
  {
   "cell_type": "code",
   "execution_count": null,
   "id": "769cbdf2",
   "metadata": {},
   "outputs": [],
   "source": []
  },
  {
   "cell_type": "code",
   "execution_count": null,
   "id": "248dc733",
   "metadata": {},
   "outputs": [],
   "source": []
  }
 ],
 "metadata": {
  "kernelspec": {
   "display_name": "conda_pytorch_p310",
   "language": "python",
   "name": "conda_pytorch_p310"
  },
  "language_info": {
   "codemirror_mode": {
    "name": "ipython",
    "version": 3
   },
   "file_extension": ".py",
   "mimetype": "text/x-python",
   "name": "python",
   "nbconvert_exporter": "python",
   "pygments_lexer": "ipython3",
   "version": "3.10.13"
  }
 },
 "nbformat": 4,
 "nbformat_minor": 5
}
